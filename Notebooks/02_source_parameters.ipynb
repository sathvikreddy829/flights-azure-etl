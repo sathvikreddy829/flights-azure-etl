{
 "cells": [
  {
   "cell_type": "code",
   "execution_count": 0,
   "metadata": {
    "application/vnd.databricks.v1+cell": {
     "cellMetadata": {},
     "inputWidgets": {},
     "nuid": "09ee24c0-8dd3-43b8-b6b0-574049412566",
     "showTitle": false,
     "tableResultSettingsMap": {},
     "title": ""
    }
   },
   "outputs": [],
   "source": [
    "src_array = [\n",
    "             {\"src\" : \"bookings\"},\n",
    "\t\t\t {\"src\" : \"airports\"},\n",
    "\t\t\t {\"src\" : \"customers\"},\n",
    "\t\t\t {\"src\" : \"flights\"}\n",
    "]\n",
    "\n",
    "dbutils.jobs.taskValues.set(key = \"output_key\", value = src_array)"
   ]
  }
 ],
 "metadata": {
  "application/vnd.databricks.v1+notebook": {
   "computePreferences": null,
   "dashboards": [],
   "environmentMetadata": {
    "base_environment": "",
    "environment_version": "4"
   },
   "inputWidgetPreferences": null,
   "language": "python",
   "notebookMetadata": {
    "pythonIndentUnit": 4
   },
   "notebookName": "SrcParameters",
   "widgets": {}
  },
  "language_info": {
   "name": "python"
  }
 },
 "nbformat": 4,
 "nbformat_minor": 0
}